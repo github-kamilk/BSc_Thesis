{
 "cells": [
  {
   "cell_type": "markdown",
   "id": "cce5ddc6",
   "metadata": {},
   "source": [
    "<font color='orange'>SKLEARN</font> - https://scikit-learn.org/stable/modules/semi_supervised.html\n",
    "\n",
    "LAMDA-SSL - https://ygzwqzd.github.io/LAMDA-SSL/#/"
   ]
  },
  {
   "cell_type": "markdown",
   "id": "f5fc098c",
   "metadata": {},
   "source": [
    "# <font color='blue'>Wrapper methods</font>"
   ]
  },
  {
   "cell_type": "markdown",
   "id": "f6014b28",
   "metadata": {},
   "source": [
    "## <font color='green'>Self-training</font><font color='orange'> SKLEARN</font>"
   ]
  },
  {
   "cell_type": "markdown",
   "id": "bb10aebb",
   "metadata": {},
   "source": [
    "##  <font color='green'>Tri-training</font> LAMDA-SSL\n"
   ]
  },
  {
   "cell_type": "markdown",
   "id": "7feb7e2c",
   "metadata": {},
   "source": [
    "##  <font color='green'>ASSEMBLE</font> LAMDA-SSL"
   ]
  },
  {
   "cell_type": "markdown",
   "id": "ada321f4",
   "metadata": {},
   "source": [
    "##  <font color='green'>Semiboost</font> LAMDA-SSL"
   ]
  },
  {
   "cell_type": "markdown",
   "id": "b346624c",
   "metadata": {},
   "source": [
    "# <font color='blue'>Unsupervised preprocessing</font>"
   ]
  },
  {
   "cell_type": "markdown",
   "id": "741f42c3",
   "metadata": {},
   "source": []
  },
  {
   "cell_type": "markdown",
   "id": "d8a8cd17",
   "metadata": {},
   "source": [
    "# <font color='blue'>Intrinsically semi-supervised</font>"
   ]
  },
  {
   "cell_type": "markdown",
   "id": "9dd118fb",
   "metadata": {},
   "source": [
    "## <font color='green'>TSVM (maximum-margin)</font> LAMDA-SSL\n",
    "\n",
    "## <font color='green'>LapSVM (manifolds)</font> LAMDA-SSL\n",
    "\n",
    "## <font color='green'>Ladder networks (perturbation-based)</font> LAMDA-SSL\n",
    "\n",
    "## <font color='green'>$\\Pi$-model (perturbation-based)</font> LAMDA-SSL\n",
    "\n",
    "## <font color='green'>Temporal ensembling (perturbation-based)</font> LAMDA-SSL\n",
    "\n",
    "## <font color='green'>Mean teacher (perturbation-based)</font> LAMDA-SSL\n",
    "\n",
    "## <font color='green'>VAT Virtual Adversarial Training (perturbation-based)</font> LAMDA-SSL"
   ]
  },
  {
   "cell_type": "markdown",
   "id": "e492a157",
   "metadata": {},
   "source": [
    "# <font color='blue'>Graph-based</font>"
   ]
  },
  {
   "cell_type": "markdown",
   "id": "54be78e4",
   "metadata": {},
   "source": [
    "## <font color='green'>Label propagation algorithm for inference on graphs</font> <font color='orange'> SKLEARN</font> or LAMDA-SSL"
   ]
  },
  {
   "cell_type": "code",
   "execution_count": null,
   "id": "f9bfd847",
   "metadata": {},
   "outputs": [],
   "source": []
  }
 ],
 "metadata": {
  "kernelspec": {
   "display_name": "Python 3",
   "language": "python",
   "name": "python3"
  },
  "language_info": {
   "codemirror_mode": {
    "name": "ipython",
    "version": 3
   },
   "file_extension": ".py",
   "mimetype": "text/x-python",
   "name": "python",
   "nbconvert_exporter": "python",
   "pygments_lexer": "ipython3",
   "version": "3.8.8"
  }
 },
 "nbformat": 4,
 "nbformat_minor": 5
}
