{
 "cells": [
  {
   "cell_type": "markdown",
   "id": "f5fc098c",
   "metadata": {},
   "source": [
    "# Wrapper methods"
   ]
  },
  {
   "cell_type": "markdown",
   "id": "f6014b28",
   "metadata": {},
   "source": [
    "## Self-training\n",
    "\n",
    "### Modele\n",
    "\n",
    "- RF, SVM\n",
    "\n",
    "### Zbiór danych\n",
    "\n",
    "- z1"
   ]
  },
  {
   "cell_type": "markdown",
   "id": "bb10aebb",
   "metadata": {},
   "source": [
    "##  Single-view co-training\n",
    "\n",
    "### Modele\n",
    "\n",
    "- RF, SVM\n",
    "\n",
    "### Zbiór danych\n",
    "\n",
    "- z1"
   ]
  },
  {
   "cell_type": "markdown",
   "id": "ada321f4",
   "metadata": {},
   "source": [
    "##  Semiboost\n",
    "\n",
    "https://ygzwqzd.github.io/LAMDA-SSL/#/\n",
    "\n",
    "### Modele\n",
    "\n",
    "- \n",
    "\n",
    "### Zbiór danych\n",
    "\n",
    "- z"
   ]
  },
  {
   "cell_type": "code",
   "execution_count": null,
   "id": "33b30ce9",
   "metadata": {},
   "outputs": [],
   "source": []
  }
 ],
 "metadata": {
  "kernelspec": {
   "display_name": "Python 3",
   "language": "python",
   "name": "python3"
  },
  "language_info": {
   "codemirror_mode": {
    "name": "ipython",
    "version": 3
   },
   "file_extension": ".py",
   "mimetype": "text/x-python",
   "name": "python",
   "nbconvert_exporter": "python",
   "pygments_lexer": "ipython3",
   "version": "3.8.8"
  }
 },
 "nbformat": 4,
 "nbformat_minor": 5
}
