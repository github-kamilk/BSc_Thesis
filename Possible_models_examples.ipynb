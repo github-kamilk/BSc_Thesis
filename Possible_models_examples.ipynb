{
 "cells": [
  {
   "cell_type": "markdown",
   "id": "cce5ddc6",
   "metadata": {},
   "source": [
    "<font color='orange'>SKLEARN</font> - https://scikit-learn.org/stable/modules/semi_supervised.html\n",
    "\n",
    "LAMDA-SSL - https://ygzwqzd.github.io/LAMDA-SSL/#/"
   ]
  },
  {
   "cell_type": "markdown",
   "id": "f5fc098c",
   "metadata": {},
   "source": [
    "# <font color='blue'>Wrapper methods</font>"
   ]
  },
  {
   "cell_type": "markdown",
   "id": "f6014b28",
   "metadata": {},
   "source": [
    "## <font color='green'>Self-training</font><font color='orange'> SKLEARN</font>"
   ]
  },
  {
   "cell_type": "markdown",
   "id": "bb10aebb",
   "metadata": {},
   "source": [
    "##  <font color='green'>Tri-training</font> LAMDA-SSL\n"
   ]
  },
  {
   "cell_type": "code",
   "execution_count": 15,
   "id": "40dec5c6",
   "metadata": {},
   "outputs": [],
   "source": [
    "from LAMDA_SSL.Algorithm.Classification.Tri_Training import Tri_Training\n",
    "from LAMDA_SSL.Dataset.Tabular.BreastCancer import BreastCancer\n",
    "from LAMDA_SSL.Evaluation.Classifier.F1 import F1\n",
    "from LAMDA_SSL.Evaluation.Classifier.Accuracy import Accuracy\n",
    "from LAMDA_SSL.Evaluation.Classifier.Recall import Recall\n",
    "from LAMDA_SSL.Evaluation.Classifier.Precision import Precision\n",
    "from LAMDA_SSL.Evaluation.Classifier.AUC import AUC\n",
    "from LAMDA_SSL.Evaluation.Classifier.Confusion_Matrix import Confusion_Matrix\n",
    "from sklearn.svm import SVC\n",
    "import numpy as np\n",
    "\n",
    "file = open(\"Result/Tri_Training_BreastCancer.txt\", \"w\")\n",
    "\n",
    "dataset=BreastCancer(test_size=0.3,labeled_size=0.1,stratified=True,shuffle=True,random_state=0,default_transforms=True)\n",
    "\n",
    "labeled_X=dataset.labeled_X\n",
    "labeled_y=dataset.labeled_y\n",
    "unlabeled_X=dataset.unlabeled_X\n",
    "unlabeled_y=dataset.unlabeled_y\n",
    "test_X=dataset.test_X\n",
    "test_y=dataset.test_y\n",
    "\n",
    "# Pre_transform\n",
    "pre_transform=dataset.pre_transform\n",
    "pre_transform.fit(np.vstack([labeled_X, unlabeled_X]))\n",
    "\n",
    "labeled_X=pre_transform.transform(labeled_X)\n",
    "unlabeled_X=pre_transform.transform(unlabeled_X)\n",
    "test_X=pre_transform.transform(test_X)\n",
    "\n",
    "evaluation={\n",
    "    'accuracy':Accuracy(),\n",
    "    'precision':Precision(average='macro'),\n",
    "    'Recall':Recall(average='macro'),\n",
    "    'F1':F1(average='macro'),\n",
    "    'AUC':AUC(multi_class='ovo'),\n",
    "    'Confusion_matrix':Confusion_Matrix(normalize='true')\n",
    "}\n",
    "\n",
    "SVM=SVC(C=1.0,kernel='linear',probability=True,gamma='auto')\n",
    "\n",
    "model=Tri_Training(base_estimator=SVM,evaluation=evaluation,file=file,verbose=True)\n",
    "\n",
    "model.fit(X=labeled_X,y=labeled_y,unlabeled_X=unlabeled_X)\n",
    "\n",
    "performance=model.evaluate(X=test_X,y=test_y)\n",
    "\n",
    "result=model.y_pred\n",
    "\n",
    "print(result,file=file)\n",
    "\n",
    "print(performance,file=file)"
   ]
  },
  {
   "cell_type": "code",
   "execution_count": 16,
   "id": "5a4db95c",
   "metadata": {},
   "outputs": [
    {
     "data": {
      "text/plain": [
       "{'accuracy': 0.9766081871345029,\n",
       " 'precision': 0.9819819819819819,\n",
       " 'Recall': 0.96875,\n",
       " 'F1': 0.97469665581533,\n",
       " 'AUC': 0.9970794392523364,\n",
       " 'Confusion_matrix': array([[0.9375, 0.0625],\n",
       "        [0.    , 1.    ]])}"
      ]
     },
     "execution_count": 16,
     "metadata": {},
     "output_type": "execute_result"
    }
   ],
   "source": [
    "performance"
   ]
  },
  {
   "cell_type": "code",
   "execution_count": 17,
   "id": "112a9246",
   "metadata": {},
   "outputs": [
    {
     "data": {
      "text/plain": [
       "array([1., 0., 0., 1., 1., 1., 0., 1., 0., 0., 1., 1., 0., 1., 1., 0., 1.,\n",
       "       1., 1., 0., 0., 0., 0., 1., 0., 1., 1., 0., 1., 1., 0., 0., 0., 0.,\n",
       "       1., 0., 0., 0., 1., 1., 0., 0., 1., 1., 1., 1., 1., 1., 0., 1., 1.,\n",
       "       0., 1., 0., 1., 1., 1., 0., 1., 1., 1., 1., 1., 1., 0., 1., 1., 0.,\n",
       "       1., 0., 1., 1., 1., 0., 1., 0., 0., 1., 1., 1., 1., 1., 1., 1., 0.,\n",
       "       1., 1., 0., 1., 0., 1., 1., 0., 1., 1., 1., 1., 0., 1., 1., 1., 1.,\n",
       "       0., 1., 0., 0., 1., 1., 0., 1., 0., 0., 1., 1., 0., 0., 1., 1., 0.,\n",
       "       1., 0., 0., 1., 0., 0., 1., 0., 1., 0., 1., 1., 1., 1., 0., 0., 1.,\n",
       "       0., 1., 0., 1., 1., 1., 1., 1., 1., 1., 1., 1., 0., 0., 1., 0., 1.,\n",
       "       1., 1., 1., 1., 1., 1., 1., 1., 1., 1., 1., 1., 0., 1., 1., 1., 1.,\n",
       "       1.], dtype=float32)"
      ]
     },
     "execution_count": 17,
     "metadata": {},
     "output_type": "execute_result"
    }
   ],
   "source": [
    "result"
   ]
  },
  {
   "cell_type": "markdown",
   "id": "7feb7e2c",
   "metadata": {},
   "source": [
    "##  <font color='green'>ASSEMBLE</font> LAMDA-SSL"
   ]
  },
  {
   "cell_type": "markdown",
   "id": "ada321f4",
   "metadata": {},
   "source": [
    "##  <font color='green'>Semiboost</font> LAMDA-SSL"
   ]
  },
  {
   "cell_type": "markdown",
   "id": "b346624c",
   "metadata": {},
   "source": [
    "# <font color='blue'>Unsupervised preprocessing</font>"
   ]
  },
  {
   "cell_type": "markdown",
   "id": "741f42c3",
   "metadata": {},
   "source": []
  },
  {
   "cell_type": "markdown",
   "id": "d8a8cd17",
   "metadata": {},
   "source": [
    "# <font color='blue'>Intrinsically semi-supervised</font>"
   ]
  },
  {
   "cell_type": "markdown",
   "id": "9dd118fb",
   "metadata": {},
   "source": [
    "## <font color='green'>TSVM (maximum-margin)</font> LAMDA-SSL\n",
    "\n",
    "## <font color='green'>LapSVM (manifolds)</font> LAMDA-SSL\n",
    "\n",
    "## <font color='green'>Ladder networks (perturbation-based)</font> LAMDA-SSL\n",
    "\n",
    "## <font color='green'>$\\Pi$-model (perturbation-based)</font> LAMDA-SSL\n",
    "\n",
    "## <font color='green'>Temporal ensembling (perturbation-based)</font> LAMDA-SSL\n",
    "\n",
    "## <font color='green'>Mean teacher (perturbation-based)</font> LAMDA-SSL\n",
    "\n",
    "## <font color='green'>VAT Virtual Adversarial Training (perturbation-based)</font> LAMDA-SSL"
   ]
  },
  {
   "cell_type": "markdown",
   "id": "e492a157",
   "metadata": {},
   "source": [
    "# <font color='blue'>Graph-based</font>"
   ]
  },
  {
   "cell_type": "markdown",
   "id": "54be78e4",
   "metadata": {},
   "source": [
    "## <font color='green'>Label propagation algorithm for inference on graphs</font> <font color='orange'> SKLEARN</font> or LAMDA-SSL"
   ]
  },
  {
   "cell_type": "code",
   "execution_count": null,
   "id": "f9bfd847",
   "metadata": {},
   "outputs": [],
   "source": []
  }
 ],
 "metadata": {
  "kernelspec": {
   "display_name": "BSc_venv",
   "language": "python",
   "name": "bsc_venv"
  },
  "language_info": {
   "codemirror_mode": {
    "name": "ipython",
    "version": 3
   },
   "file_extension": ".py",
   "mimetype": "text/x-python",
   "name": "python",
   "nbconvert_exporter": "python",
   "pygments_lexer": "ipython3",
   "version": "3.7.9"
  }
 },
 "nbformat": 4,
 "nbformat_minor": 5
}
