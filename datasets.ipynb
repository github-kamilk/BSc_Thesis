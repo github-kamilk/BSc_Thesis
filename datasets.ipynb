{
 "cells": [
  {
   "cell_type": "markdown",
   "id": "dad70a64",
   "metadata": {},
   "source": [
    "https://medium.com/analytics-vidhya/skip-the-data-preprocessing-accessing-12-ready-to-go-datasets-829e53f2d78"
   ]
  },
  {
   "cell_type": "markdown",
   "id": "a1257124",
   "metadata": {},
   "source": [
    "# CIFAR10 (cats & dogs)"
   ]
  },
  {
   "cell_type": "code",
   "execution_count": 11,
   "id": "2837ad1c",
   "metadata": {},
   "outputs": [],
   "source": [
    "import numpy as np\n",
    "import keras\n",
    "from keras.datasets import cifar10\n",
    "\n",
    "(x_train, y_train), (x_test, y_test) = cifar10.load_data()\n",
    "\n",
    "mask_train = np.logical_or(y_train == 3, y_train == 5).ravel()\n",
    "x_train_filtered = x_train[mask_train]\n",
    "y_train_filtered = y_train[mask_train]\n",
    "\n",
    "mask_test = np.logical_or(y_test == 3, y_test == 5).ravel()\n",
    "x_test_filtered = x_test[mask_test]\n",
    "y_test_filtered = y_test[mask_test]"
   ]
  },
  {
   "cell_type": "code",
   "execution_count": 12,
   "id": "08854f79",
   "metadata": {},
   "outputs": [
    {
     "name": "stdout",
     "output_type": "stream",
     "text": [
      "Accuracy: 0.653\n"
     ]
    }
   ],
   "source": [
    "x_train_flattened = x_train_filtered.reshape(x_train_filtered.shape[0], -1)\n",
    "x_test_flattened = x_test_filtered.reshape(x_test_filtered.shape[0], -1)\n",
    "\n",
    "from sklearn.ensemble import RandomForestClassifier\n",
    "\n",
    "clf = RandomForestClassifier(n_estimators=100)\n",
    "clf.fit(x_train_flattened, y_train_filtered.ravel())\n",
    "accuracy = clf.score(x_test_flattened, y_test_filtered.ravel())\n",
    "print(\"Accuracy:\", accuracy)\n"
   ]
  },
  {
   "cell_type": "markdown",
   "id": "dffae016",
   "metadata": {},
   "source": [
    "# IMDB reviews"
   ]
  },
  {
   "cell_type": "code",
   "execution_count": 25,
   "id": "53c57466",
   "metadata": {},
   "outputs": [
    {
     "name": "stdout",
     "output_type": "stream",
     "text": [
      "Accuracy: 0.8432\n"
     ]
    }
   ],
   "source": [
    "from keras.datasets import imdb\n",
    "from sklearn.feature_extraction.text import CountVectorizer\n",
    "from sklearn.feature_extraction.text import TfidfVectorizer\n",
    "from sklearn.ensemble import RandomForestClassifier\n",
    "\n",
    "(x_train, y_train), (x_test, y_test) = imdb.load_data(path=\"imdb.npz\",num_words=None,skip_top=0, maxlen=None,seed=1,start_char=1,oov_char=2,index_from=3)\n",
    "\n",
    "'''\n",
    "num_words=None: Określa maksymalną liczbę słów, które mają zostać uwzględnione na podstawie częstości występowania słowa. Jeśli jest ustawione na None, zostaną załadowane wszystkie słowa.\n",
    "\n",
    "skip_top=0: Ignoruje określoną liczbę najczęściej występujących słów. Dla skip_top=0 nie ignoruje żadnych słów.\n",
    "\n",
    "maxlen=None: Maksymalna długość recenzji do załadowania. Recenzje przekraczające tę długość zostaną przycięte. Jeśli jest None, załaduje recenzje o dowolnej długości.\n",
    "\n",
    "seed=1: Wartość nasionka używana do mieszania danych.\n",
    "\n",
    "start_char=1: Wartość charakterystyczna, która oznacza początek sekwencji w recenzji.\n",
    "\n",
    "oov_char=2: Wartość charakterystyczna używana dla słów, które nie zostały uwzględnione z powodu ograniczenia num_words lub skip_top.\n",
    "\n",
    "index_from=3: Indeks, od którego zaczynają się rzeczywiste słowa w słowniku. Oznacza to, że pierwsze trzy indeksy w słowniku są zarezerwowane dla start_char, oov_char oraz nieokreślonego znaku końca sekwencji.\n",
    "'''\n",
    "\n",
    "\n",
    "# Odwróć indeks słownika IMDB, aby uzyskać mapowanie z indeksu na słowo\n",
    "word_index = imdb.get_word_index()\n",
    "reverse_word_index = dict([(value, key) for (key, value) in word_index.items()])\n",
    "\n",
    "# Dekoduj recenzje do tekstów\n",
    "decoded_train = [\" \".join([reverse_word_index.get(i - 3, \"?\") for i in review]) for review in x_train] #Dlaczego i - 3? - trzy pierwsze indeksy są zarezerwowane dla wartości specjalnych: start sekwencji, nieznane słowo i koniec sekwencji, więc indeksy rzeczywistych słów w słowniku są przesunięte o 3.\n",
    "decoded_test = [\" \".join([reverse_word_index.get(i - 3, \"?\") for i in review]) for review in x_test]\n",
    "\n",
    "# Wektoryzacja za pomocą BoW\n",
    "vectorizer = CountVectorizer(max_features=5000)  # Limit do 5000 najczęstszych słów\n",
    "x_train_vec = vectorizer.fit_transform(decoded_train)\n",
    "x_test_vec = vectorizer.transform(decoded_test)\n",
    "\n",
    "# Wektoryzacja za pomocą TF-IDF\n",
    "# vectorizer = TfidfVectorizer(max_features=5000)\n",
    "# x_train_vec = vectorizer.fit_transform(decoded_train)\n",
    "# x_test_vec = vectorizer.transform(decoded_test)\n",
    "\n",
    "clf = RandomForestClassifier(n_estimators=100)\n",
    "clf.fit(x_train_vec, y_train)\n",
    "\n",
    "accuracy = clf.score(x_test_vec, y_test)\n",
    "print(\"Accuracy:\", accuracy)\n"
   ]
  },
  {
   "cell_type": "code",
   "execution_count": 24,
   "id": "e86a4b33",
   "metadata": {},
   "outputs": [
    {
     "data": {
      "text/plain": [
       "'? on the day of the california presidential primary between midnight and 1 00 am the spy victor rovner sends a message from kuala lumpur to usa meanwhile in los angeles the federal agent jack bauer has returned to his family and is having trouble at home with his teenage daughter kimberly who blames her mother teri for putting jack out of the house teri and jack decide to have a serious conversation with kim and they discover that the girl has run away home while trying to solve his domestic problem jack is called to his counter terrorist unit by his colleague nina myers for a meeting with their chief richard walsh who discloses a menace against the life of senator david palmer who is running for president and they need to find the shooter later walsh has a private conversation with jack and tells that there is a conspiracy in the agency against david palmer and assigns jack to find the conspirators when an airplane explodes over the mojave desert jack has one additional issue to worry about br br the first episode of 24 is a promising beginning of a successful series introducing jack bauer this is the first time that i have watched this show and i confess that i liked what i have seen a complex and dramatic story with multiple and realistic characters kiefer sutherland is perfect in the role of a family man and a reliable agent in charge of three difficult missions at the same time find a killer to protect an important politician find a traitor in his agency and find his teenage daughter who is getting in trouble while trying to save his marriage my vote is eight br br title brazil 12 00'"
      ]
     },
     "execution_count": 24,
     "metadata": {},
     "output_type": "execute_result"
    }
   ],
   "source": [
    "decoded_train[5]"
   ]
  },
  {
   "cell_type": "markdown",
   "id": "1709276e",
   "metadata": {},
   "source": [
    "# Wisconsin Breast Cancer Diagnostic Dataset"
   ]
  },
  {
   "cell_type": "code",
   "execution_count": 31,
   "id": "e5a4c186",
   "metadata": {},
   "outputs": [
    {
     "name": "stdout",
     "output_type": "stream",
     "text": [
      "Accuracy: 0.9707602339181286\n"
     ]
    }
   ],
   "source": [
    "from sklearn import datasets\n",
    "from sklearn.ensemble import RandomForestClassifier\n",
    "from sklearn.model_selection import train_test_split\n",
    "from sklearn.metrics import accuracy_score\n",
    "\n",
    "data = datasets.load_breast_cancer()\n",
    "'''\n",
    "data.data: Macierz, w której każdy wiersz reprezentuje próbkę, a każda kolumna reprezentuje cechę. W tym zestawie danych jest 569 próbek i 30 cech.\n",
    "\n",
    "data.target: Lista etykiet dla każdej próbki. Wartość 0 oznacza złośliwy guz, a wartość 1 oznacza łagodny guz.\n",
    "\n",
    "data.feature_names: Lista nazw cech.\n",
    "\n",
    "data.target_names: Lista nazw klas. W tym przypadku to ['malignant' (złośliwy), 'benign' (łagodny)].\n",
    "\n",
    "data.DESCR: Pełny opis zestawu danych.\n",
    "'''\n",
    "\n",
    "X, y = data.data, data.target\n",
    "\n",
    "X_train, X_test, y_train, y_test = train_test_split(X, y, test_size=0.3, random_state=42)\n",
    "\n",
    "clf = RandomForestClassifier(n_estimators=100, random_state=42)\n",
    "clf.fit(X_train, y_train)\n",
    "\n",
    "y_pred = clf.predict(X_test)\n",
    "accuracy = accuracy_score(y_test, y_pred)\n",
    "print(\"Accuracy:\", accuracy)"
   ]
  },
  {
   "cell_type": "code",
   "execution_count": 30,
   "id": "b043d805",
   "metadata": {},
   "outputs": [
    {
     "data": {
      "text/plain": [
       "569"
      ]
     },
     "execution_count": 30,
     "metadata": {},
     "output_type": "execute_result"
    }
   ],
   "source": [
    "len(data.target)"
   ]
  },
  {
   "cell_type": "code",
   "execution_count": null,
   "id": "9cb88a82",
   "metadata": {},
   "outputs": [],
   "source": []
  }
 ],
 "metadata": {
  "kernelspec": {
   "display_name": "BSc_venv",
   "language": "python",
   "name": "bsc_venv"
  },
  "language_info": {
   "codemirror_mode": {
    "name": "ipython",
    "version": 3
   },
   "file_extension": ".py",
   "mimetype": "text/x-python",
   "name": "python",
   "nbconvert_exporter": "python",
   "pygments_lexer": "ipython3",
   "version": "3.7.9"
  }
 },
 "nbformat": 4,
 "nbformat_minor": 5
}
